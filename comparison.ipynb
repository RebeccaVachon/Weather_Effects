{
 "cells": [
  {
   "cell_type": "markdown",
   "metadata": {},
   "source": []
  },
  {
   "cell_type": "code",
   "execution_count": 49,
   "metadata": {},
   "outputs": [],
   "source": [
    "# importing the modules that will be used in this project\n",
    "import pandas as pd\n",
    "import numpy as np\n",
    "import matplotlib.pyplot as plt\n",
    "import seaborn as sns"
   ]
  },
  {
   "attachments": {},
   "cell_type": "markdown",
   "metadata": {},
   "source": [
    "# Adding Data"
   ]
  },
  {
   "attachments": {},
   "cell_type": "markdown",
   "metadata": {},
   "source": [
    "## Adding First Data Source"
   ]
  },
  {
   "attachments": {},
   "cell_type": "markdown",
   "metadata": {},
   "source": [
    "For my first data source, I used [The Weather Scraper](https://github.com/Karlheinzniebuhr/the-weather-scraper) to downloads weather data from the weather stations near my house."
   ]
  },
  {
   "cell_type": "code",
   "execution_count": 50,
   "metadata": {},
   "outputs": [
    {
     "data": {
      "text/html": [
       "<div>\n",
       "<style scoped>\n",
       "    .dataframe tbody tr th:only-of-type {\n",
       "        vertical-align: middle;\n",
       "    }\n",
       "\n",
       "    .dataframe tbody tr th {\n",
       "        vertical-align: top;\n",
       "    }\n",
       "\n",
       "    .dataframe thead th {\n",
       "        text-align: right;\n",
       "    }\n",
       "</style>\n",
       "<table border=\"1\" class=\"dataframe\">\n",
       "  <thead>\n",
       "    <tr style=\"text-align: right;\">\n",
       "      <th></th>\n",
       "      <th>Date</th>\n",
       "      <th>Time</th>\n",
       "      <th>Temperature_F</th>\n",
       "      <th>Dew_Point_F</th>\n",
       "      <th>Humidity_%</th>\n",
       "      <th>Wind</th>\n",
       "      <th>Speed_mph</th>\n",
       "      <th>Gust_mph</th>\n",
       "      <th>Pressure_in</th>\n",
       "      <th>Precip_Rate_in</th>\n",
       "      <th>Precip_Accum_in</th>\n",
       "      <th>UV</th>\n",
       "      <th>Solar_w/m2</th>\n",
       "    </tr>\n",
       "  </thead>\n",
       "  <tbody>\n",
       "    <tr>\n",
       "      <th>0</th>\n",
       "      <td>1/1/2022</td>\n",
       "      <td>12:04 AM</td>\n",
       "      <td>63.5</td>\n",
       "      <td>61.2</td>\n",
       "      <td>92</td>\n",
       "      <td>WNW</td>\n",
       "      <td>4.8</td>\n",
       "      <td>6.9</td>\n",
       "      <td>30.14</td>\n",
       "      <td>0.00</td>\n",
       "      <td>0.00</td>\n",
       "      <td>0</td>\n",
       "      <td>0.0</td>\n",
       "    </tr>\n",
       "    <tr>\n",
       "      <th>1</th>\n",
       "      <td>1/1/2022</td>\n",
       "      <td>12:09 AM</td>\n",
       "      <td>63.4</td>\n",
       "      <td>61.2</td>\n",
       "      <td>93</td>\n",
       "      <td>WNW</td>\n",
       "      <td>3.9</td>\n",
       "      <td>6.1</td>\n",
       "      <td>30.14</td>\n",
       "      <td>0.00</td>\n",
       "      <td>0.00</td>\n",
       "      <td>0</td>\n",
       "      <td>0.0</td>\n",
       "    </tr>\n",
       "    <tr>\n",
       "      <th>2</th>\n",
       "      <td>1/1/2022</td>\n",
       "      <td>12:14 AM</td>\n",
       "      <td>63.1</td>\n",
       "      <td>61.1</td>\n",
       "      <td>94</td>\n",
       "      <td>WNW</td>\n",
       "      <td>2.8</td>\n",
       "      <td>4.5</td>\n",
       "      <td>30.14</td>\n",
       "      <td>0.05</td>\n",
       "      <td>0.01</td>\n",
       "      <td>0</td>\n",
       "      <td>0.0</td>\n",
       "    </tr>\n",
       "    <tr>\n",
       "      <th>3</th>\n",
       "      <td>1/1/2022</td>\n",
       "      <td>12:19 AM</td>\n",
       "      <td>62.9</td>\n",
       "      <td>60.9</td>\n",
       "      <td>94</td>\n",
       "      <td>WSW</td>\n",
       "      <td>3.5</td>\n",
       "      <td>5.1</td>\n",
       "      <td>30.14</td>\n",
       "      <td>0.05</td>\n",
       "      <td>0.01</td>\n",
       "      <td>0</td>\n",
       "      <td>0.0</td>\n",
       "    </tr>\n",
       "    <tr>\n",
       "      <th>4</th>\n",
       "      <td>1/1/2022</td>\n",
       "      <td>12:24 AM</td>\n",
       "      <td>62.6</td>\n",
       "      <td>60.6</td>\n",
       "      <td>94</td>\n",
       "      <td>West</td>\n",
       "      <td>2.9</td>\n",
       "      <td>4.6</td>\n",
       "      <td>30.14</td>\n",
       "      <td>0.05</td>\n",
       "      <td>0.01</td>\n",
       "      <td>0</td>\n",
       "      <td>0.0</td>\n",
       "    </tr>\n",
       "  </tbody>\n",
       "</table>\n",
       "</div>"
      ],
      "text/plain": [
       "       Date      Time  Temperature_F  Dew_Point_F  Humidity_%  Wind  \\\n",
       "0  1/1/2022  12:04 AM           63.5         61.2          92   WNW   \n",
       "1  1/1/2022  12:09 AM           63.4         61.2          93   WNW   \n",
       "2  1/1/2022  12:14 AM           63.1         61.1          94   WNW   \n",
       "3  1/1/2022  12:19 AM           62.9         60.9          94   WSW   \n",
       "4  1/1/2022  12:24 AM           62.6         60.6          94  West   \n",
       "\n",
       "   Speed_mph  Gust_mph  Pressure_in  Precip_Rate_in  Precip_Accum_in  UV  \\\n",
       "0        4.8       6.9        30.14            0.00             0.00   0   \n",
       "1        3.9       6.1        30.14            0.00             0.00   0   \n",
       "2        2.8       4.5        30.14            0.05             0.01   0   \n",
       "3        3.5       5.1        30.14            0.05             0.01   0   \n",
       "4        2.9       4.6        30.14            0.05             0.01   0   \n",
       "\n",
       "   Solar_w/m2  \n",
       "0         0.0  \n",
       "1         0.0  \n",
       "2         0.0  \n",
       "3         0.0  \n",
       "4         0.0  "
      ]
     },
     "execution_count": 50,
     "metadata": {},
     "output_type": "execute_result"
    }
   ],
   "source": [
    "# reading in data from local csv using pandas read_csv function\n",
    "full_weather_df = pd.read_csv('KKYFORTT2.csv')\n",
    "\n",
    "# displaying the top 5 rows of the newly created data frame to ensure it was loaded correctly. \n",
    "full_weather_df.head()"
   ]
  },
  {
   "cell_type": "code",
   "execution_count": 51,
   "metadata": {},
   "outputs": [
    {
     "name": "stderr",
     "output_type": "stream",
     "text": [
      "C:\\Users\\rebec\\AppData\\Local\\Temp\\ipykernel_34008\\136343739.py:2: FutureWarning: Indexing with multiple keys (implicitly converted to a tuple of keys) will be deprecated, use a list instead.\n",
      "  daily_weather_df = full_weather_df.groupby('Date', as_index=False)[\"Temperature_F\", \"Humidity_%\", \"Pressure_in\", \"Precip_Rate_in\", \"UV\"].mean()\n"
     ]
    },
    {
     "data": {
      "text/html": [
       "<div>\n",
       "<style scoped>\n",
       "    .dataframe tbody tr th:only-of-type {\n",
       "        vertical-align: middle;\n",
       "    }\n",
       "\n",
       "    .dataframe tbody tr th {\n",
       "        vertical-align: top;\n",
       "    }\n",
       "\n",
       "    .dataframe thead th {\n",
       "        text-align: right;\n",
       "    }\n",
       "</style>\n",
       "<table border=\"1\" class=\"dataframe\">\n",
       "  <thead>\n",
       "    <tr style=\"text-align: right;\">\n",
       "      <th></th>\n",
       "      <th>Date</th>\n",
       "      <th>Temperature_F</th>\n",
       "      <th>Humidity_%</th>\n",
       "      <th>Pressure_in</th>\n",
       "      <th>Precip_Rate_in</th>\n",
       "      <th>UV</th>\n",
       "    </tr>\n",
       "  </thead>\n",
       "  <tbody>\n",
       "    <tr>\n",
       "      <th>0</th>\n",
       "      <td>1/1/2022</td>\n",
       "      <td>55.932292</td>\n",
       "      <td>98.729167</td>\n",
       "      <td>30.077917</td>\n",
       "      <td>0.083819</td>\n",
       "      <td>0.000000</td>\n",
       "    </tr>\n",
       "    <tr>\n",
       "      <th>1</th>\n",
       "      <td>1/10/2022</td>\n",
       "      <td>23.358885</td>\n",
       "      <td>69.257840</td>\n",
       "      <td>30.852404</td>\n",
       "      <td>0.000000</td>\n",
       "      <td>0.407666</td>\n",
       "    </tr>\n",
       "    <tr>\n",
       "      <th>2</th>\n",
       "      <td>1/11/2022</td>\n",
       "      <td>23.203819</td>\n",
       "      <td>67.003472</td>\n",
       "      <td>30.858021</td>\n",
       "      <td>0.000000</td>\n",
       "      <td>0.520833</td>\n",
       "    </tr>\n",
       "    <tr>\n",
       "      <th>3</th>\n",
       "      <td>1/12/2022</td>\n",
       "      <td>39.423958</td>\n",
       "      <td>61.263889</td>\n",
       "      <td>30.513194</td>\n",
       "      <td>0.000000</td>\n",
       "      <td>0.520833</td>\n",
       "    </tr>\n",
       "    <tr>\n",
       "      <th>4</th>\n",
       "      <td>1/13/2022</td>\n",
       "      <td>40.048264</td>\n",
       "      <td>76.260417</td>\n",
       "      <td>30.284583</td>\n",
       "      <td>0.000000</td>\n",
       "      <td>0.298611</td>\n",
       "    </tr>\n",
       "  </tbody>\n",
       "</table>\n",
       "</div>"
      ],
      "text/plain": [
       "        Date  Temperature_F  Humidity_%  Pressure_in  Precip_Rate_in        UV\n",
       "0   1/1/2022      55.932292   98.729167    30.077917        0.083819  0.000000\n",
       "1  1/10/2022      23.358885   69.257840    30.852404        0.000000  0.407666\n",
       "2  1/11/2022      23.203819   67.003472    30.858021        0.000000  0.520833\n",
       "3  1/12/2022      39.423958   61.263889    30.513194        0.000000  0.520833\n",
       "4  1/13/2022      40.048264   76.260417    30.284583        0.000000  0.298611"
      ]
     },
     "execution_count": 51,
     "metadata": {},
     "output_type": "execute_result"
    }
   ],
   "source": [
    "# applying groupby() function to group the data by day and take the mean of the measurements I am intersted in for this project. \n",
    "daily_weather_df = full_weather_df.groupby('Date', as_index=False)[\"Temperature_F\", \"Humidity_%\", \"Pressure_in\", \"Precip_Rate_in\", \"UV\"].mean()\n",
    "\n",
    "daily_weather_df.head()"
   ]
  },
  {
   "cell_type": "code",
   "execution_count": 52,
   "metadata": {},
   "outputs": [],
   "source": [
    "# converting the UV index colum from a float to an int\n",
    "daily_weather_df.UV = daily_weather_df.UV.astype(int)"
   ]
  },
  {
   "cell_type": "code",
   "execution_count": 53,
   "metadata": {},
   "outputs": [
    {
     "data": {
      "text/plain": [
       "DatetimeIndex(['2022-01-01', '2022-01-02', '2022-01-03', '2022-01-04',\n",
       "               '2022-01-05', '2022-01-06', '2022-01-07', '2022-01-08',\n",
       "               '2022-01-09', '2022-01-10',\n",
       "               ...\n",
       "               '2022-12-22', '2022-12-23', '2022-12-24', '2022-12-25',\n",
       "               '2022-12-26', '2022-12-27', '2022-12-28', '2022-12-29',\n",
       "               '2022-12-30', '2022-12-31'],\n",
       "              dtype='datetime64[ns]', length=365, freq='D')"
      ]
     },
     "execution_count": 53,
     "metadata": {},
     "output_type": "execute_result"
    }
   ],
   "source": [
    "# Finally, I am going to make sure I have data for each day of the year\n",
    "pd.date_range(start= '2022/01/01', end = \"2022/12/31\").difference(daily_weather_df.index)"
   ]
  },
  {
   "cell_type": "code",
   "execution_count": 54,
   "metadata": {},
   "outputs": [
    {
     "data": {
      "text/plain": [
       "Date               object\n",
       "Temperature_F     float64\n",
       "Humidity_%        float64\n",
       "Pressure_in       float64\n",
       "Precip_Rate_in    float64\n",
       "UV                  int32\n",
       "dtype: object"
      ]
     },
     "execution_count": 54,
     "metadata": {},
     "output_type": "execute_result"
    }
   ],
   "source": [
    "daily_weather_df.dtypes"
   ]
  },
  {
   "attachments": {},
   "cell_type": "markdown",
   "metadata": {},
   "source": [
    "## Adding the Second Dataset"
   ]
  },
  {
   "attachments": {},
   "cell_type": "markdown",
   "metadata": {},
   "source": [
    "For my second dataset, I exported a year's worth of activity data from my fitbit. "
   ]
  },
  {
   "cell_type": "code",
   "execution_count": 55,
   "metadata": {},
   "outputs": [
    {
     "data": {
      "text/html": [
       "<div>\n",
       "<style scoped>\n",
       "    .dataframe tbody tr th:only-of-type {\n",
       "        vertical-align: middle;\n",
       "    }\n",
       "\n",
       "    .dataframe tbody tr th {\n",
       "        vertical-align: top;\n",
       "    }\n",
       "\n",
       "    .dataframe thead th {\n",
       "        text-align: right;\n",
       "    }\n",
       "</style>\n",
       "<table border=\"1\" class=\"dataframe\">\n",
       "  <thead>\n",
       "    <tr style=\"text-align: right;\">\n",
       "      <th></th>\n",
       "      <th>Date</th>\n",
       "      <th>Calories_Burned</th>\n",
       "      <th>Steps</th>\n",
       "      <th>Distance</th>\n",
       "      <th>Floors</th>\n",
       "      <th>Minutes_Sedentary</th>\n",
       "      <th>Minutes_Lightly_Active</th>\n",
       "      <th>Minutes_Fairly_Active</th>\n",
       "      <th>Minutes_Very_Active</th>\n",
       "      <th>Activity_Calories</th>\n",
       "    </tr>\n",
       "  </thead>\n",
       "  <tbody>\n",
       "    <tr>\n",
       "      <th>0</th>\n",
       "      <td>2022-01-01</td>\n",
       "      <td>1982</td>\n",
       "      <td>2093</td>\n",
       "      <td>0.94</td>\n",
       "      <td>0</td>\n",
       "      <td>682</td>\n",
       "      <td>131</td>\n",
       "      <td>0</td>\n",
       "      <td>0</td>\n",
       "      <td>448</td>\n",
       "    </tr>\n",
       "    <tr>\n",
       "      <th>1</th>\n",
       "      <td>2022-01-02</td>\n",
       "      <td>2237</td>\n",
       "      <td>5612</td>\n",
       "      <td>2.52</td>\n",
       "      <td>1</td>\n",
       "      <td>684</td>\n",
       "      <td>231</td>\n",
       "      <td>0</td>\n",
       "      <td>0</td>\n",
       "      <td>818</td>\n",
       "    </tr>\n",
       "    <tr>\n",
       "      <th>2</th>\n",
       "      <td>2022-01-03</td>\n",
       "      <td>2286</td>\n",
       "      <td>7615</td>\n",
       "      <td>3.59</td>\n",
       "      <td>9</td>\n",
       "      <td>741</td>\n",
       "      <td>168</td>\n",
       "      <td>37</td>\n",
       "      <td>8</td>\n",
       "      <td>824</td>\n",
       "    </tr>\n",
       "    <tr>\n",
       "      <th>3</th>\n",
       "      <td>2022-01-04</td>\n",
       "      <td>2018</td>\n",
       "      <td>2639</td>\n",
       "      <td>1.19</td>\n",
       "      <td>1</td>\n",
       "      <td>955</td>\n",
       "      <td>140</td>\n",
       "      <td>0</td>\n",
       "      <td>0</td>\n",
       "      <td>487</td>\n",
       "    </tr>\n",
       "    <tr>\n",
       "      <th>4</th>\n",
       "      <td>2022-01-05</td>\n",
       "      <td>2018</td>\n",
       "      <td>2697</td>\n",
       "      <td>1.21</td>\n",
       "      <td>1</td>\n",
       "      <td>669</td>\n",
       "      <td>156</td>\n",
       "      <td>0</td>\n",
       "      <td>0</td>\n",
       "      <td>512</td>\n",
       "    </tr>\n",
       "  </tbody>\n",
       "</table>\n",
       "</div>"
      ],
      "text/plain": [
       "        Date  Calories_Burned  Steps  Distance  Floors  Minutes_Sedentary  \\\n",
       "0 2022-01-01             1982   2093      0.94       0                682   \n",
       "1 2022-01-02             2237   5612      2.52       1                684   \n",
       "2 2022-01-03             2286   7615      3.59       9                741   \n",
       "3 2022-01-04             2018   2639      1.19       1                955   \n",
       "4 2022-01-05             2018   2697      1.21       1                669   \n",
       "\n",
       "   Minutes_Lightly_Active  Minutes_Fairly_Active  Minutes_Very_Active  \\\n",
       "0                     131                      0                    0   \n",
       "1                     231                      0                    0   \n",
       "2                     168                     37                    8   \n",
       "3                     140                      0                    0   \n",
       "4                     156                      0                    0   \n",
       "\n",
       "   Activity_Calories  \n",
       "0                448  \n",
       "1                818  \n",
       "2                824  \n",
       "3                487  \n",
       "4                512  "
      ]
     },
     "execution_count": 55,
     "metadata": {},
     "output_type": "execute_result"
    }
   ],
   "source": [
    "# reading in a local excel document using the panads read_excel function\n",
    "fitbit_df = pd.read_excel('Fitbit_Data.xlsx', sheet_name=\"Activity\")\n",
    "\n",
    "fitbit_df.head()\n",
    "# displaying the top 5 rows of the newly created data frame to ensure it was loaded correctly. "
   ]
  },
  {
   "attachments": {},
   "cell_type": "markdown",
   "metadata": {},
   "source": [
    "# Cleaning the Data\n",
    "## Cleaning the First Dataset"
   ]
  },
  {
   "cell_type": "code",
   "execution_count": 56,
   "metadata": {},
   "outputs": [
    {
     "data": {
      "text/plain": [
       "Date               object\n",
       "Temperature_F     float64\n",
       "Humidity_%        float64\n",
       "Pressure_in       float64\n",
       "Precip_Rate_in    float64\n",
       "UV                  int32\n",
       "dtype: object"
      ]
     },
     "execution_count": 56,
     "metadata": {},
     "output_type": "execute_result"
    }
   ],
   "source": [
    "daily_weather_df.dtypes"
   ]
  },
  {
   "cell_type": "code",
   "execution_count": 57,
   "metadata": {},
   "outputs": [
    {
     "data": {
      "text/html": [
       "<div>\n",
       "<style scoped>\n",
       "    .dataframe tbody tr th:only-of-type {\n",
       "        vertical-align: middle;\n",
       "    }\n",
       "\n",
       "    .dataframe tbody tr th {\n",
       "        vertical-align: top;\n",
       "    }\n",
       "\n",
       "    .dataframe thead th {\n",
       "        text-align: right;\n",
       "    }\n",
       "</style>\n",
       "<table border=\"1\" class=\"dataframe\">\n",
       "  <thead>\n",
       "    <tr style=\"text-align: right;\">\n",
       "      <th></th>\n",
       "      <th>Date</th>\n",
       "      <th>Temperature_F</th>\n",
       "      <th>Humidity_%</th>\n",
       "      <th>Pressure_in</th>\n",
       "      <th>Precip_Rate_in</th>\n",
       "      <th>UV</th>\n",
       "    </tr>\n",
       "  </thead>\n",
       "  <tbody>\n",
       "    <tr>\n",
       "      <th>0</th>\n",
       "      <td>1/1/2022</td>\n",
       "      <td>55</td>\n",
       "      <td>98</td>\n",
       "      <td>30</td>\n",
       "      <td>0</td>\n",
       "      <td>0</td>\n",
       "    </tr>\n",
       "    <tr>\n",
       "      <th>1</th>\n",
       "      <td>1/10/2022</td>\n",
       "      <td>23</td>\n",
       "      <td>69</td>\n",
       "      <td>30</td>\n",
       "      <td>0</td>\n",
       "      <td>0</td>\n",
       "    </tr>\n",
       "    <tr>\n",
       "      <th>2</th>\n",
       "      <td>1/11/2022</td>\n",
       "      <td>23</td>\n",
       "      <td>67</td>\n",
       "      <td>30</td>\n",
       "      <td>0</td>\n",
       "      <td>0</td>\n",
       "    </tr>\n",
       "    <tr>\n",
       "      <th>3</th>\n",
       "      <td>1/12/2022</td>\n",
       "      <td>39</td>\n",
       "      <td>61</td>\n",
       "      <td>30</td>\n",
       "      <td>0</td>\n",
       "      <td>0</td>\n",
       "    </tr>\n",
       "    <tr>\n",
       "      <th>4</th>\n",
       "      <td>1/13/2022</td>\n",
       "      <td>40</td>\n",
       "      <td>76</td>\n",
       "      <td>30</td>\n",
       "      <td>0</td>\n",
       "      <td>0</td>\n",
       "    </tr>\n",
       "  </tbody>\n",
       "</table>\n",
       "</div>"
      ],
      "text/plain": [
       "        Date  Temperature_F  Humidity_%  Pressure_in  Precip_Rate_in  UV\n",
       "0   1/1/2022             55          98           30               0   0\n",
       "1  1/10/2022             23          69           30               0   0\n",
       "2  1/11/2022             23          67           30               0   0\n",
       "3  1/12/2022             39          61           30               0   0\n",
       "4  1/13/2022             40          76           30               0   0"
      ]
     },
     "execution_count": 57,
     "metadata": {},
     "output_type": "execute_result"
    }
   ],
   "source": [
    "# converting the columns from floats to ints using a for loop\n",
    "\n",
    "cols = [\"Temperature_F\", \"Humidity_%\", \"Pressure_in\", \"Precip_Rate_in\", \"UV\"]\n",
    "for x in cols:\n",
    "    daily_weather_df[x] = daily_weather_df[x].apply(np.int64)\n",
    "\n",
    "daily_weather_df.head()"
   ]
  },
  {
   "cell_type": "code",
   "execution_count": 58,
   "metadata": {},
   "outputs": [],
   "source": [
    "# Changing the Date column as a date type\n",
    "daily_weather_df['Date'] = pd.to_datetime(daily_weather_df['Date'])"
   ]
  },
  {
   "cell_type": "code",
   "execution_count": 59,
   "metadata": {},
   "outputs": [],
   "source": [
    "# renaming a column to be more specific\n",
    "daily_weather_df.rename(columns={\"UV\": \"UV_Index\"}, inplace=True)"
   ]
  },
  {
   "attachments": {},
   "cell_type": "markdown",
   "metadata": {},
   "source": [
    "## Cleaning the Second Dataset"
   ]
  },
  {
   "attachments": {},
   "cell_type": "markdown",
   "metadata": {},
   "source": [
    "First, I will find days where I have very little or no activity recorded. Since these are days where I forgot to wear my fitbit, not days where I didn't move, I am going to replace the zeros with the mean for each column."
   ]
  },
  {
   "cell_type": "code",
   "execution_count": 60,
   "metadata": {},
   "outputs": [],
   "source": [
    "# replacing low step count days with 0\n",
    "fitbit_df[\"Steps\"].mask(fitbit_df['Steps'] <1000, 0, inplace=True)"
   ]
  },
  {
   "cell_type": "code",
   "execution_count": 61,
   "metadata": {},
   "outputs": [],
   "source": [
    "# Since I have several columns where I need to replace zeros with the column mean, I will be using the replace function in a for loop\n",
    "\n",
    "cols = ['Calories_Burned',\n",
    " 'Steps',\n",
    " 'Distance',\n",
    " 'Floors',\n",
    " 'Minutes_Sedentary',\n",
    " 'Minutes_Lightly_Active',\n",
    " 'Minutes_Fairly_Active',\n",
    " 'Minutes_Very_Active',\n",
    " 'Activity_Calories']\n",
    "\n",
    "for x in cols:\n",
    "    colname = fitbit_df[x]\n",
    "    colname.replace(to_replace= 0, value=colname.mean(), inplace=True)"
   ]
  },
  {
   "cell_type": "code",
   "execution_count": 62,
   "metadata": {},
   "outputs": [],
   "source": [
    "# Finally, I will convert the columns to ints\n",
    "\n",
    "cols = ['Calories_Burned',\n",
    " 'Steps',\n",
    " 'Floors',\n",
    " 'Minutes_Sedentary',\n",
    " 'Minutes_Lightly_Active',\n",
    " 'Minutes_Fairly_Active',\n",
    " 'Minutes_Very_Active',\n",
    " 'Activity_Calories']\n",
    "\n",
    "for x in cols:\n",
    "    fitbit_df = fitbit_df.astype({x : 'int'})"
   ]
  },
  {
   "attachments": {},
   "cell_type": "markdown",
   "metadata": {},
   "source": [
    "# Merging the Datasets"
   ]
  },
  {
   "cell_type": "code",
   "execution_count": 63,
   "metadata": {},
   "outputs": [
    {
     "data": {
      "text/plain": [
       "(365, 15)"
      ]
     },
     "execution_count": 63,
     "metadata": {},
     "output_type": "execute_result"
    }
   ],
   "source": [
    "merged_df = pd.merge(daily_weather_df, fitbit_df, how='outer')\n",
    "\n",
    "# sorting by date\n",
    "merged_df = merged_df.sort_values(by=['Date'])\n",
    "\n",
    "merged_df.shape\n"
   ]
  },
  {
   "cell_type": "code",
   "execution_count": 64,
   "metadata": {},
   "outputs": [
    {
     "data": {
      "text/plain": [
       "Date                      datetime64[ns]\n",
       "Temperature_F                    float64\n",
       "Humidity_%                       float64\n",
       "Pressure_in                      float64\n",
       "Precip_Rate_in                   float64\n",
       "UV_Index                         float64\n",
       "Calories_Burned                    int32\n",
       "Steps                              int32\n",
       "Distance                         float64\n",
       "Floors                             int32\n",
       "Minutes_Sedentary                  int32\n",
       "Minutes_Lightly_Active             int32\n",
       "Minutes_Fairly_Active              int32\n",
       "Minutes_Very_Active                int32\n",
       "Activity_Calories                  int32\n",
       "dtype: object"
      ]
     },
     "execution_count": 64,
     "metadata": {},
     "output_type": "execute_result"
    }
   ],
   "source": [
    "merged_df.dtypes"
   ]
  },
  {
   "attachments": {},
   "cell_type": "markdown",
   "metadata": {},
   "source": [
    "# Anaylsis"
   ]
  },
  {
   "attachments": {},
   "cell_type": "markdown",
   "metadata": {},
   "source": [
    "First, I want to find the days where I was the most and least active."
   ]
  },
  {
   "cell_type": "code",
   "execution_count": 65,
   "metadata": {},
   "outputs": [
    {
     "name": "stdout",
     "output_type": "stream",
     "text": [
      "I was most active on July 27, 2022 and least active on January 30, 2022.\n"
     ]
    }
   ],
   "source": [
    "# Finding the max and min steps\n",
    "max_steps = (merged_df['Steps'].max())\n",
    "min_steps = (merged_df['Steps'].min())\n",
    "\n",
    "# Finding the days that correspond with the max and min steps\n",
    "most_active_day = merged_df.loc[merged_df['Steps'] == max_steps, 'Date'].iloc[0]\n",
    "most_active_day = most_active_day.strftime('%B %d, %Y')\n",
    "least_active_day = merged_df.loc[merged_df['Steps'] == min_steps, 'Date'].iloc[0]\n",
    "least_active_day = least_active_day.strftime('%B %d, %Y')\n",
    "\n",
    "print (f\"I was most active on {most_active_day} and least active on {least_active_day}.\")"
   ]
  },
  {
   "attachments": {},
   "cell_type": "markdown",
   "metadata": {},
   "source": [
    "Next, I want to see how many days of the year had a mean temperature below freezing. "
   ]
  },
  {
   "cell_type": "code",
   "execution_count": 66,
   "metadata": {},
   "outputs": [
    {
     "name": "stdout",
     "output_type": "stream",
     "text": [
      "There were 56 days where the mean temperature was below freezing.\n"
     ]
    }
   ],
   "source": [
    "# how many days was the mean temp below freezing?\n",
    "freezing_days = merged_df.query('Temperature_F <= 32')['Date'].count()\n",
    "\n",
    "print(f'There were {freezing_days} days where the mean temperature was below freezing.')\n"
   ]
  },
  {
   "cell_type": "code",
   "execution_count": 67,
   "metadata": {},
   "outputs": [
    {
     "data": {
      "text/html": [
       "<div>\n",
       "<style scoped>\n",
       "    .dataframe tbody tr th:only-of-type {\n",
       "        vertical-align: middle;\n",
       "    }\n",
       "\n",
       "    .dataframe tbody tr th {\n",
       "        vertical-align: top;\n",
       "    }\n",
       "\n",
       "    .dataframe thead tr th {\n",
       "        text-align: left;\n",
       "    }\n",
       "\n",
       "    .dataframe thead tr:last-of-type th {\n",
       "        text-align: right;\n",
       "    }\n",
       "</style>\n",
       "<table border=\"1\" class=\"dataframe\">\n",
       "  <thead>\n",
       "    <tr>\n",
       "      <th></th>\n",
       "      <th>Temperature_F</th>\n",
       "    </tr>\n",
       "    <tr>\n",
       "      <th></th>\n",
       "      <th>mean</th>\n",
       "    </tr>\n",
       "    <tr>\n",
       "      <th>Date</th>\n",
       "      <th></th>\n",
       "    </tr>\n",
       "  </thead>\n",
       "  <tbody>\n",
       "    <tr>\n",
       "      <th>2022-01-31</th>\n",
       "      <td>28.096774</td>\n",
       "    </tr>\n",
       "    <tr>\n",
       "      <th>2022-02-28</th>\n",
       "      <td>35.571429</td>\n",
       "    </tr>\n",
       "    <tr>\n",
       "      <th>2022-03-31</th>\n",
       "      <td>46.966667</td>\n",
       "    </tr>\n",
       "    <tr>\n",
       "      <th>2022-04-30</th>\n",
       "      <td>52.066667</td>\n",
       "    </tr>\n",
       "    <tr>\n",
       "      <th>2022-05-31</th>\n",
       "      <td>66.322581</td>\n",
       "    </tr>\n",
       "    <tr>\n",
       "      <th>2022-06-30</th>\n",
       "      <td>72.448276</td>\n",
       "    </tr>\n",
       "    <tr>\n",
       "      <th>2022-07-31</th>\n",
       "      <td>76.258065</td>\n",
       "    </tr>\n",
       "    <tr>\n",
       "      <th>2022-08-31</th>\n",
       "      <td>73.451613</td>\n",
       "    </tr>\n",
       "    <tr>\n",
       "      <th>2022-09-30</th>\n",
       "      <td>67.200000</td>\n",
       "    </tr>\n",
       "    <tr>\n",
       "      <th>2022-10-31</th>\n",
       "      <td>54.225806</td>\n",
       "    </tr>\n",
       "    <tr>\n",
       "      <th>2022-11-30</th>\n",
       "      <td>44.733333</td>\n",
       "    </tr>\n",
       "    <tr>\n",
       "      <th>2022-12-31</th>\n",
       "      <td>35.612903</td>\n",
       "    </tr>\n",
       "  </tbody>\n",
       "</table>\n",
       "</div>"
      ],
      "text/plain": [
       "           Temperature_F\n",
       "                    mean\n",
       "Date                    \n",
       "2022-01-31     28.096774\n",
       "2022-02-28     35.571429\n",
       "2022-03-31     46.966667\n",
       "2022-04-30     52.066667\n",
       "2022-05-31     66.322581\n",
       "2022-06-30     72.448276\n",
       "2022-07-31     76.258065\n",
       "2022-08-31     73.451613\n",
       "2022-09-30     67.200000\n",
       "2022-10-31     54.225806\n",
       "2022-11-30     44.733333\n",
       "2022-12-31     35.612903"
      ]
     },
     "execution_count": 67,
     "metadata": {},
     "output_type": "execute_result"
    }
   ],
   "source": [
    "# Finding the mean temp for each month\n",
    "\n",
    "merged_df.groupby(pd.Grouper(key='Date', freq='M')).agg({'Temperature_F' : ['mean']})"
   ]
  },
  {
   "cell_type": "markdown",
   "metadata": {},
   "source": [
    "sorted_steps = merged_df.sort_values(by='Steps', ascending=False)\n",
    "sorted_steps.head(10)"
   ]
  },
  {
   "attachments": {},
   "cell_type": "markdown",
   "metadata": {},
   "source": [
    "# Visualization "
   ]
  },
  {
   "cell_type": "code",
   "execution_count": 71,
   "metadata": {},
   "outputs": [
    {
     "data": {
      "image/png": "[encoded data removed]",
      "text/plain": [
       "<Figure size 1200x600 with 1 Axes>"
      ]
     },
     "metadata": {},
     "output_type": "display_data"
    }
   ],
   "source": [
    "plt.figure(figsize=(12,6))\n",
    "sns.scatterplot(data=merged_df, x='Steps', y='Temperature_F')\n",
    "plt.title(\"Daily Steps by Outside Mean Temperature\", fontsize='xx-large')\n",
    "plt.xlabel('Daily Steps', fontsize='x-large')\n",
    "plt.ylabel('Mean Tempature', fontsize='x-large')\n",
    "plt.show()"
   ]
  },
  {
   "cell_type": "code",
   "execution_count": 72,
   "metadata": {},
   "outputs": [
    {
     "data": {
      "image/png": "[encoded data removed]",
      "text/plain": [
       "<Figure size 1200x600 with 1 Axes>"
      ]
     },
     "metadata": {},
     "output_type": "display_data"
    }
   ],
   "source": [
    "plt.figure(figsize=(12,6))\n",
    "sns.regplot(data=merged_df, x='Steps', y='Temperature_F')\n",
    "plt.title(\"Daily Steps by Outside Mean Temperature\", fontsize='xx-large')\n",
    "plt.xlabel('Daily Steps', fontsize='x-large')\n",
    "plt.ylabel('Mean Tempature', fontsize='x-large')\n",
    "plt.show()"
   ]
  },
  {
   "cell_type": "code",
   "execution_count": 69,
   "metadata": {},
   "outputs": [
    {
     "data": {
      "image/png": "[encoded data removed]",
      "text/plain": [
       "<Figure size 1200x600 with 1 Axes>"
      ]
     },
     "metadata": {},
     "output_type": "display_data"
    }
   ],
   "source": [
    "plt.figure(figsize=(12,6))\n",
    "plt.hist(merged_df['Temperature_F'])\n",
    "plt.show()"
   ]
  }
 ],
 "metadata": {
  "kernelspec": {
   "display_name": "Python 3",
   "language": "python",
   "name": "python3"
  },
  "language_info": {
   "codemirror_mode": {
    "name": "ipython",
    "version": 3
   },
   "file_extension": ".py",
   "mimetype": "text/x-python",
   "name": "python",
   "nbconvert_exporter": "python",
   "pygments_lexer": "ipython3",
   "version": "3.10.9"
  },
  "orig_nbformat": 4
 },
 "nbformat": 4,
 "nbformat_minor": 2
}
